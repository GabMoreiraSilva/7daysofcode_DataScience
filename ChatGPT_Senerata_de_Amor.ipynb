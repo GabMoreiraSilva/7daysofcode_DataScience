{
 "cells": [
  {
   "attachments": {},
   "cell_type": "markdown",
   "metadata": {},
   "source": [
    "# Carregando valores"
   ]
  },
  {
   "cell_type": "code",
   "execution_count": 36,
   "metadata": {},
   "outputs": [],
   "source": [
    "import pandas as pd\n",
    "from scipy import stats\n",
    "import numpy as np\n",
    "import seaborn as sns\n",
    "import matplotlib.pyplot as plt\n",
    "\n",
    "dados = pd.read_table(\"despesa_ceaps_2022.csv\", header=1, sep=\";\", encoding=\"latin-1\")"
   ]
  },
  {
   "cell_type": "code",
   "execution_count": 37,
   "metadata": {},
   "outputs": [
    {
     "data": {
      "text/plain": [
       "ANO                     0\n",
       "MES                     0\n",
       "SENADOR                 0\n",
       "TIPO_DESPESA            0\n",
       "CNPJ_CPF                0\n",
       "FORNECEDOR              0\n",
       "DOCUMENTO             934\n",
       "DATA                    0\n",
       "DETALHAMENTO         7720\n",
       "VALOR_REEMBOLSADO       0\n",
       "COD_DOCUMENTO           0\n",
       "dtype: int64"
      ]
     },
     "execution_count": 37,
     "metadata": {},
     "output_type": "execute_result"
    }
   ],
   "source": [
    "dados.isna().sum()"
   ]
  },
  {
   "cell_type": "code",
   "execution_count": 38,
   "metadata": {},
   "outputs": [
    {
     "data": {
      "text/plain": [
       "ANO                   0.00\n",
       "MES                   0.00\n",
       "SENADOR               0.00\n",
       "TIPO_DESPESA          0.00\n",
       "CNPJ_CPF              0.00\n",
       "FORNECEDOR            0.00\n",
       "DOCUMENTO             5.57\n",
       "DATA                  0.00\n",
       "DETALHAMENTO         46.00\n",
       "VALOR_REEMBOLSADO     0.00\n",
       "COD_DOCUMENTO         0.00\n",
       "dtype: float64"
      ]
     },
     "execution_count": 38,
     "metadata": {},
     "output_type": "execute_result"
    }
   ],
   "source": [
    "round(dados.isna().sum() / dados.shape[0] * 100, 2)"
   ]
  },
  {
   "cell_type": "code",
   "execution_count": 39,
   "metadata": {},
   "outputs": [
    {
     "data": {
      "text/plain": [
       "ANO                   int64\n",
       "MES                   int64\n",
       "SENADOR              object\n",
       "TIPO_DESPESA         object\n",
       "CNPJ_CPF             object\n",
       "FORNECEDOR           object\n",
       "DOCUMENTO            object\n",
       "DATA                 object\n",
       "DETALHAMENTO         object\n",
       "VALOR_REEMBOLSADO    object\n",
       "COD_DOCUMENTO         int64\n",
       "dtype: object"
      ]
     },
     "execution_count": 39,
     "metadata": {},
     "output_type": "execute_result"
    }
   ],
   "source": [
    "dados.dtypes"
   ]
  },
  {
   "cell_type": "code",
   "execution_count": 40,
   "metadata": {},
   "outputs": [],
   "source": [
    "dados_copia = dados.copy()\n",
    "dados_copia[\"DATA\"] = pd.to_datetime(dados_copia.DATA, format=\"%d/%m/%Y\")"
   ]
  },
  {
   "cell_type": "code",
   "execution_count": 41,
   "metadata": {},
   "outputs": [
    {
     "data": {
      "text/plain": [
       "ANO                           int64\n",
       "MES                           int64\n",
       "SENADOR                      object\n",
       "TIPO_DESPESA                 object\n",
       "CNPJ_CPF                     object\n",
       "FORNECEDOR                   object\n",
       "DOCUMENTO                    object\n",
       "DATA                 datetime64[ns]\n",
       "DETALHAMENTO                 object\n",
       "VALOR_REEMBOLSADO            object\n",
       "COD_DOCUMENTO                 int64\n",
       "dtype: object"
      ]
     },
     "execution_count": 41,
     "metadata": {},
     "output_type": "execute_result"
    }
   ],
   "source": [
    "dados_copia.dtypes"
   ]
  },
  {
   "cell_type": "code",
   "execution_count": 42,
   "metadata": {},
   "outputs": [],
   "source": [
    "dados_copia[\"VALOR_REEMBOLSADO\"] = dados_copia[\"VALOR_REEMBOLSADO\"].apply(lambda x: x.replace(\",\", \".\"))\n",
    "dados_copia[\"VALOR_REEMBOLSADO\"] = pd.to_numeric(dados_copia[\"VALOR_REEMBOLSADO\"], downcast='float')\n",
    "dados_copia[\"VALOR_REEMBOLSADO\"] = dados_copia[\"VALOR_REEMBOLSADO\"].apply(lambda x: round(x,2))"
   ]
  },
  {
   "cell_type": "code",
   "execution_count": 43,
   "metadata": {},
   "outputs": [
    {
     "data": {
      "text/plain": [
       "ANO                           int64\n",
       "MES                           int64\n",
       "SENADOR                      object\n",
       "TIPO_DESPESA                 object\n",
       "CNPJ_CPF                     object\n",
       "FORNECEDOR                   object\n",
       "DOCUMENTO                    object\n",
       "DATA                 datetime64[ns]\n",
       "DETALHAMENTO                 object\n",
       "VALOR_REEMBOLSADO           float64\n",
       "COD_DOCUMENTO                 int64\n",
       "dtype: object"
      ]
     },
     "execution_count": 43,
     "metadata": {},
     "output_type": "execute_result"
    }
   ],
   "source": [
    "dados_copia.dtypes"
   ]
  },
  {
   "cell_type": "code",
   "execution_count": 44,
   "metadata": {},
   "outputs": [
    {
     "data": {
      "text/plain": [
       "ANO                     0\n",
       "MES                     0\n",
       "SENADOR                 0\n",
       "TIPO_DESPESA            0\n",
       "CNPJ_CPF                0\n",
       "FORNECEDOR              0\n",
       "DOCUMENTO             934\n",
       "DATA                    0\n",
       "DETALHAMENTO         7720\n",
       "VALOR_REEMBOLSADO       0\n",
       "COD_DOCUMENTO           0\n",
       "dtype: int64"
      ]
     },
     "execution_count": 44,
     "metadata": {},
     "output_type": "execute_result"
    }
   ],
   "source": [
    "dados_copia.isna().sum()"
   ]
  },
  {
   "cell_type": "code",
   "execution_count": 45,
   "metadata": {},
   "outputs": [
    {
     "data": {
      "text/plain": [
       "<Axes: >"
      ]
     },
     "execution_count": 45,
     "metadata": {},
     "output_type": "execute_result"
    },
    {
     "data": {
      "image/png": "[encoded data removed]",
      "text/plain": [
       "<Figure size 640x480 with 1 Axes>"
      ]
     },
     "metadata": {},
     "output_type": "display_data"
    }
   ],
   "source": [
    "sns.boxplot(dados_copia[\"VALOR_REEMBOLSADO\"])"
   ]
  },
  {
   "cell_type": "code",
   "execution_count": 46,
   "metadata": {},
   "outputs": [],
   "source": [
    "index = np.where(dados_copia[\"VALOR_REEMBOLSADO\"]<5000)\n",
    "outlier = np.where(dados_copia[\"VALOR_REEMBOLSADO\"]>=5000)"
   ]
  },
  {
   "cell_type": "code",
   "execution_count": 47,
   "metadata": {},
   "outputs": [
    {
     "name": "stderr",
     "output_type": "stream",
     "text": [
      "c:\\Users\\Gabriel\\Documents\\faculdade\\Ciência de Dados\\.venv\\lib\\site-packages\\seaborn\\_oldcore.py:1498: FutureWarning: is_categorical_dtype is deprecated and will be removed in a future version. Use isinstance(dtype, CategoricalDtype) instead\n",
      "  if pd.api.types.is_categorical_dtype(vector):\n",
      "c:\\Users\\Gabriel\\Documents\\faculdade\\Ciência de Dados\\.venv\\lib\\site-packages\\seaborn\\_oldcore.py:1119: FutureWarning: use_inf_as_na option is deprecated and will be removed in a future version. Convert inf values to NaN before operating instead.\n",
      "  with pd.option_context('mode.use_inf_as_na', True):\n"
     ]
    },
    {
     "data": {
      "text/plain": [
       "<Axes: xlabel='VALOR_REEMBOLSADO', ylabel='Count'>"
      ]
     },
     "execution_count": 47,
     "metadata": {},
     "output_type": "execute_result"
    },
    {
     "data": {
      "image/png": "[encoded data removed]",
      "text/plain": [
       "<Figure size 640x480 with 1 Axes>"
      ]
     },
     "metadata": {},
     "output_type": "display_data"
    }
   ],
   "source": [
    "sns.histplot(data=dados_copia.iloc[index][\"VALOR_REEMBOLSADO\"])"
   ]
  },
  {
   "cell_type": "code",
   "execution_count": 48,
   "metadata": {},
   "outputs": [
    {
     "name": "stderr",
     "output_type": "stream",
     "text": [
      "c:\\Users\\Gabriel\\Documents\\faculdade\\Ciência de Dados\\.venv\\lib\\site-packages\\seaborn\\_oldcore.py:1498: FutureWarning: is_categorical_dtype is deprecated and will be removed in a future version. Use isinstance(dtype, CategoricalDtype) instead\n",
      "  if pd.api.types.is_categorical_dtype(vector):\n",
      "c:\\Users\\Gabriel\\Documents\\faculdade\\Ciência de Dados\\.venv\\lib\\site-packages\\seaborn\\_oldcore.py:1119: FutureWarning: use_inf_as_na option is deprecated and will be removed in a future version. Convert inf values to NaN before operating instead.\n",
      "  with pd.option_context('mode.use_inf_as_na', True):\n"
     ]
    },
    {
     "data": {
      "text/plain": [
       "<Axes: xlabel='VALOR_REEMBOLSADO', ylabel='Count'>"
      ]
     },
     "execution_count": 48,
     "metadata": {},
     "output_type": "execute_result"
    },
    {
     "data": {
      "image/png": "[encoded data removed]",
      "text/plain": [
       "<Figure size 640x480 with 1 Axes>"
      ]
     },
     "metadata": {},
     "output_type": "display_data"
    }
   ],
   "source": [
    "sns.histplot(data=dados_copia.iloc[outlier][\"VALOR_REEMBOLSADO\"])"
   ]
  },
  {
   "cell_type": "code",
   "execution_count": 49,
   "metadata": {},
   "outputs": [],
   "source": [
    "index_soma = round(dados_copia.iloc[index][\"VALOR_REEMBOLSADO\"].sum(),2)\n",
    "outlier_soma = round(dados_copia.iloc[outlier][\"VALOR_REEMBOLSADO\"].sum(),2)\n",
    "diferenca = index_soma - outlier_soma"
   ]
  },
  {
   "cell_type": "code",
   "execution_count": 50,
   "metadata": {},
   "outputs": [
    {
     "name": "stdout",
     "output_type": "stream",
     "text": [
      "O valor do primeiro histograma é de 15564945.19\n",
      "O valor do segundo histograma é de 11728183.41\n",
      "A diferença é de 3836761.7799999993\n"
     ]
    }
   ],
   "source": [
    "print(\"O valor do primeiro histograma é de {}\\nO valor do segundo histograma é de {}\\nA diferença é de {}\".format(index_soma, outlier_soma, diferenca))"
   ]
  },
  {
   "cell_type": "code",
   "execution_count": 55,
   "metadata": {},
   "outputs": [
    {
     "name": "stderr",
     "output_type": "stream",
     "text": [
      "c:\\Users\\Gabriel\\Documents\\faculdade\\Ciência de Dados\\.venv\\lib\\site-packages\\seaborn\\_oldcore.py:1498: FutureWarning: is_categorical_dtype is deprecated and will be removed in a future version. Use isinstance(dtype, CategoricalDtype) instead\n",
      "  if pd.api.types.is_categorical_dtype(vector):\n",
      "c:\\Users\\Gabriel\\Documents\\faculdade\\Ciência de Dados\\.venv\\lib\\site-packages\\seaborn\\_oldcore.py:1498: FutureWarning: is_categorical_dtype is deprecated and will be removed in a future version. Use isinstance(dtype, CategoricalDtype) instead\n",
      "  if pd.api.types.is_categorical_dtype(vector):\n",
      "c:\\Users\\Gabriel\\Documents\\faculdade\\Ciência de Dados\\.venv\\lib\\site-packages\\seaborn\\_oldcore.py:1765: FutureWarning: unique with argument that is not not a Series, Index, ExtensionArray, or np.ndarray is deprecated and will raise in a future version.\n",
      "  order = pd.unique(vector)\n",
      "c:\\Users\\Gabriel\\Documents\\faculdade\\Ciência de Dados\\.venv\\lib\\site-packages\\seaborn\\_oldcore.py:1498: FutureWarning: is_categorical_dtype is deprecated and will be removed in a future version. Use isinstance(dtype, CategoricalDtype) instead\n",
      "  if pd.api.types.is_categorical_dtype(vector):\n"
     ]
    },
    {
     "data": {
      "text/plain": [
       "<Axes: >"
      ]
     },
     "execution_count": 55,
     "metadata": {},
     "output_type": "execute_result"
    },
    {
     "data": {
      "image/png": "[encoded data removed]",
      "text/plain": [
       "<Figure size 640x480 with 1 Axes>"
      ]
     },
     "metadata": {},
     "output_type": "display_data"
    }
   ],
   "source": [
    "ax = sns.barplot(y=[index_soma,outlier_soma], x=[1,2])\n",
    "ax.set(xticklabels=[\"Comum\", \"Outlier\"])\n",
    "ax"
   ]
  },
  {
   "cell_type": "markdown",
   "metadata": {},
   "source": [
    "## Com base no coficiente assimetria de person temos uma assimetria forte, já que o resultado foi maior que 1"
   ]
  },
  {
   "cell_type": "code",
   "execution_count": 16,
   "metadata": {},
   "outputs": [
    {
     "data": {
      "text/plain": [
       "1.0216210144657667"
      ]
     },
     "execution_count": 16,
     "metadata": {},
     "output_type": "execute_result"
    }
   ],
   "source": [
    "media = dados_copia[\"VALOR_REEMBOLSADO\"].mean()\n",
    "mediana = dados_copia[\"VALOR_REEMBOLSADO\"].median()\n",
    "desvio = dados_copia[\"VALOR_REEMBOLSADO\"].std()\n",
    "As = (3*(media-mediana))/desvio\n",
    "As"
   ]
  },
  {
   "cell_type": "markdown",
   "metadata": {},
   "source": [
    "# Analisando os dados"
   ]
  },
  {
   "cell_type": "code",
   "execution_count": 17,
   "metadata": {},
   "outputs": [
    {
     "data": {
      "text/html": [
       "<div>\n",
       "<style scoped>\n",
       "    .dataframe tbody tr th:only-of-type {\n",
       "        vertical-align: middle;\n",
       "    }\n",
       "\n",
       "    .dataframe tbody tr th {\n",
       "        vertical-align: top;\n",
       "    }\n",
       "\n",
       "    .dataframe thead th {\n",
       "        text-align: right;\n",
       "    }\n",
       "</style>\n",
       "<table border=\"1\" class=\"dataframe\">\n",
       "  <thead>\n",
       "    <tr style=\"text-align: right;\">\n",
       "      <th></th>\n",
       "      <th>ANO</th>\n",
       "      <th>MES</th>\n",
       "      <th>DATA</th>\n",
       "      <th>VALOR_REEMBOLSADO</th>\n",
       "      <th>COD_DOCUMENTO</th>\n",
       "    </tr>\n",
       "  </thead>\n",
       "  <tbody>\n",
       "    <tr>\n",
       "      <th>count</th>\n",
       "      <td>16782.0</td>\n",
       "      <td>16782.000000</td>\n",
       "      <td>16782</td>\n",
       "      <td>16782.000000</td>\n",
       "      <td>1.678200e+04</td>\n",
       "    </tr>\n",
       "    <tr>\n",
       "      <th>mean</th>\n",
       "      <td>2022.0</td>\n",
       "      <td>6.258372</td>\n",
       "      <td>2022-06-19 02:01:55.838398208</td>\n",
       "      <td>1626.333488</td>\n",
       "      <td>2.183257e+06</td>\n",
       "    </tr>\n",
       "    <tr>\n",
       "      <th>min</th>\n",
       "      <td>2022.0</td>\n",
       "      <td>1.000000</td>\n",
       "      <td>2000-12-08 00:00:00</td>\n",
       "      <td>0.010000</td>\n",
       "      <td>2.172906e+06</td>\n",
       "    </tr>\n",
       "    <tr>\n",
       "      <th>25%</th>\n",
       "      <td>2022.0</td>\n",
       "      <td>3.000000</td>\n",
       "      <td>2022-03-29 00:00:00</td>\n",
       "      <td>200.000000</td>\n",
       "      <td>2.178410e+06</td>\n",
       "    </tr>\n",
       "    <tr>\n",
       "      <th>50%</th>\n",
       "      <td>2022.0</td>\n",
       "      <td>6.000000</td>\n",
       "      <td>2022-06-14 00:00:00</td>\n",
       "      <td>480.000000</td>\n",
       "      <td>2.183250e+06</td>\n",
       "    </tr>\n",
       "    <tr>\n",
       "      <th>75%</th>\n",
       "      <td>2022.0</td>\n",
       "      <td>9.000000</td>\n",
       "      <td>2022-09-16 18:00:00</td>\n",
       "      <td>2000.000000</td>\n",
       "      <td>2.188074e+06</td>\n",
       "    </tr>\n",
       "    <tr>\n",
       "      <th>max</th>\n",
       "      <td>2022.0</td>\n",
       "      <td>12.000000</td>\n",
       "      <td>2023-12-23 00:00:00</td>\n",
       "      <td>77012.000000</td>\n",
       "      <td>2.198297e+06</td>\n",
       "    </tr>\n",
       "    <tr>\n",
       "      <th>std</th>\n",
       "      <td>0.0</td>\n",
       "      <td>3.302406</td>\n",
       "      <td>NaN</td>\n",
       "      <td>3366.219387</td>\n",
       "      <td>5.745640e+03</td>\n",
       "    </tr>\n",
       "  </tbody>\n",
       "</table>\n",
       "</div>"
      ],
      "text/plain": [
       "           ANO           MES                           DATA  \\\n",
       "count  16782.0  16782.000000                          16782   \n",
       "mean    2022.0      6.258372  2022-06-19 02:01:55.838398208   \n",
       "min     2022.0      1.000000            2000-12-08 00:00:00   \n",
       "25%     2022.0      3.000000            2022-03-29 00:00:00   \n",
       "50%     2022.0      6.000000            2022-06-14 00:00:00   \n",
       "75%     2022.0      9.000000            2022-09-16 18:00:00   \n",
       "max     2022.0     12.000000            2023-12-23 00:00:00   \n",
       "std        0.0      3.302406                            NaN   \n",
       "\n",
       "       VALOR_REEMBOLSADO  COD_DOCUMENTO  \n",
       "count       16782.000000   1.678200e+04  \n",
       "mean         1626.333488   2.183257e+06  \n",
       "min             0.010000   2.172906e+06  \n",
       "25%           200.000000   2.178410e+06  \n",
       "50%           480.000000   2.183250e+06  \n",
       "75%          2000.000000   2.188074e+06  \n",
       "max         77012.000000   2.198297e+06  \n",
       "std          3366.219387   5.745640e+03  "
      ]
     },
     "execution_count": 17,
     "metadata": {},
     "output_type": "execute_result"
    }
   ],
   "source": [
    "dados_copia.describe()"
   ]
  },
  {
   "cell_type": "code",
   "execution_count": 18,
   "metadata": {},
   "outputs": [
    {
     "data": {
      "text/html": [
       "<div>\n",
       "<style scoped>\n",
       "    .dataframe tbody tr th:only-of-type {\n",
       "        vertical-align: middle;\n",
       "    }\n",
       "\n",
       "    .dataframe tbody tr th {\n",
       "        vertical-align: top;\n",
       "    }\n",
       "\n",
       "    .dataframe thead th {\n",
       "        text-align: right;\n",
       "    }\n",
       "</style>\n",
       "<table border=\"1\" class=\"dataframe\">\n",
       "  <thead>\n",
       "    <tr style=\"text-align: right;\">\n",
       "      <th></th>\n",
       "      <th>ANO</th>\n",
       "      <th>MES</th>\n",
       "      <th>SENADOR</th>\n",
       "      <th>TIPO_DESPESA</th>\n",
       "      <th>CNPJ_CPF</th>\n",
       "      <th>FORNECEDOR</th>\n",
       "      <th>DOCUMENTO</th>\n",
       "      <th>DATA</th>\n",
       "      <th>DETALHAMENTO</th>\n",
       "      <th>VALOR_REEMBOLSADO</th>\n",
       "      <th>COD_DOCUMENTO</th>\n",
       "    </tr>\n",
       "  </thead>\n",
       "  <tbody>\n",
       "    <tr>\n",
       "      <th>284</th>\n",
       "      <td>2022</td>\n",
       "      <td>10</td>\n",
       "      <td>ALESSANDRO VIEIRA</td>\n",
       "      <td>Contratação de consultorias, assessorias, pesq...</td>\n",
       "      <td>25.012.398/0001-07</td>\n",
       "      <td>GOOGLE CLOUD BRASIL COMPUTAÇÃO E SERVIÇOS DE D...</td>\n",
       "      <td>04429484</td>\n",
       "      <td>2022-10-02</td>\n",
       "      <td>NaN</td>\n",
       "      <td>8.10</td>\n",
       "      <td>2189352</td>\n",
       "    </tr>\n",
       "    <tr>\n",
       "      <th>958</th>\n",
       "      <td>2022</td>\n",
       "      <td>1</td>\n",
       "      <td>CARLOS PORTINHO</td>\n",
       "      <td>Passagens aéreas, aquáticas e terrestres nacio...</td>\n",
       "      <td>09.296.295/0001-60</td>\n",
       "      <td>AZUL</td>\n",
       "      <td>MGMLGZ</td>\n",
       "      <td>2022-01-19</td>\n",
       "      <td>Companhia Aérea: AZUL, Localizador: MGMLGZ. Pa...</td>\n",
       "      <td>0.01</td>\n",
       "      <td>2173057</td>\n",
       "    </tr>\n",
       "    <tr>\n",
       "      <th>959</th>\n",
       "      <td>2022</td>\n",
       "      <td>1</td>\n",
       "      <td>CARLOS PORTINHO</td>\n",
       "      <td>Passagens aéreas, aquáticas e terrestres nacio...</td>\n",
       "      <td>09.296.295/0001-60</td>\n",
       "      <td>AZUL</td>\n",
       "      <td>NN2E6U</td>\n",
       "      <td>2022-01-19</td>\n",
       "      <td>Companhia Aérea: AZUL, Localizador: NN2E6U. Pa...</td>\n",
       "      <td>3.00</td>\n",
       "      <td>2173056</td>\n",
       "    </tr>\n",
       "    <tr>\n",
       "      <th>1298</th>\n",
       "      <td>2022</td>\n",
       "      <td>2</td>\n",
       "      <td>CARLOS VIANA</td>\n",
       "      <td>Locomoção, hospedagem, alimentação, combustíve...</td>\n",
       "      <td>10.215.988/0001-60</td>\n",
       "      <td>COMPANHIA DE LOCACAO DAS AMERICAS</td>\n",
       "      <td>0004912053</td>\n",
       "      <td>2022-03-30</td>\n",
       "      <td>NaN</td>\n",
       "      <td>7.78</td>\n",
       "      <td>2179187</td>\n",
       "    </tr>\n",
       "    <tr>\n",
       "      <th>1548</th>\n",
       "      <td>2022</td>\n",
       "      <td>8</td>\n",
       "      <td>CARLOS VIANA</td>\n",
       "      <td>Aquisição de material de consumo para uso no e...</td>\n",
       "      <td>45.543.915/0157-07</td>\n",
       "      <td>CARREFOUR COMERCIO E INDUSTRIA LTDA</td>\n",
       "      <td>377936</td>\n",
       "      <td>2022-08-03</td>\n",
       "      <td>NaN</td>\n",
       "      <td>7.90</td>\n",
       "      <td>2186159</td>\n",
       "    </tr>\n",
       "    <tr>\n",
       "      <th>...</th>\n",
       "      <td>...</td>\n",
       "      <td>...</td>\n",
       "      <td>...</td>\n",
       "      <td>...</td>\n",
       "      <td>...</td>\n",
       "      <td>...</td>\n",
       "      <td>...</td>\n",
       "      <td>...</td>\n",
       "      <td>...</td>\n",
       "      <td>...</td>\n",
       "      <td>...</td>\n",
       "    </tr>\n",
       "    <tr>\n",
       "      <th>12686</th>\n",
       "      <td>2022</td>\n",
       "      <td>9</td>\n",
       "      <td>PAULO PAIM</td>\n",
       "      <td>Contratação de consultorias, assessorias, pesq...</td>\n",
       "      <td>01.109.184/0004-38</td>\n",
       "      <td>UNIVERSO ONLINE SA</td>\n",
       "      <td>113031051</td>\n",
       "      <td>2022-09-19</td>\n",
       "      <td>Despesa com suporte técnico.</td>\n",
       "      <td>4.72</td>\n",
       "      <td>2189731</td>\n",
       "    </tr>\n",
       "    <tr>\n",
       "      <th>12716</th>\n",
       "      <td>2022</td>\n",
       "      <td>10</td>\n",
       "      <td>PAULO PAIM</td>\n",
       "      <td>Contratação de consultorias, assessorias, pesq...</td>\n",
       "      <td>01.109.184/0004-38</td>\n",
       "      <td>UNIVERSO ONLINE SA</td>\n",
       "      <td>113640657</td>\n",
       "      <td>2022-10-05</td>\n",
       "      <td>Despesa com serviço de suporte técnico em info...</td>\n",
       "      <td>8.84</td>\n",
       "      <td>2188954</td>\n",
       "    </tr>\n",
       "    <tr>\n",
       "      <th>12750</th>\n",
       "      <td>2022</td>\n",
       "      <td>11</td>\n",
       "      <td>PAULO PAIM</td>\n",
       "      <td>Contratação de consultorias, assessorias, pesq...</td>\n",
       "      <td>01.109.184/0004-38</td>\n",
       "      <td>UNIVERSO ONLINE SA</td>\n",
       "      <td>114819706</td>\n",
       "      <td>2022-11-04</td>\n",
       "      <td>Despesa com suporte técnico em informática</td>\n",
       "      <td>8.84</td>\n",
       "      <td>2189253</td>\n",
       "    </tr>\n",
       "    <tr>\n",
       "      <th>12787</th>\n",
       "      <td>2022</td>\n",
       "      <td>12</td>\n",
       "      <td>PAULO PAIM</td>\n",
       "      <td>Contratação de consultorias, assessorias, pesq...</td>\n",
       "      <td>01.109.184/0004-38</td>\n",
       "      <td>UNIVERSO ONLINE SA</td>\n",
       "      <td>116099895</td>\n",
       "      <td>2022-12-08</td>\n",
       "      <td>Despesa com serviço de suporte técnico.</td>\n",
       "      <td>8.90</td>\n",
       "      <td>2194178</td>\n",
       "    </tr>\n",
       "    <tr>\n",
       "      <th>13460</th>\n",
       "      <td>2022</td>\n",
       "      <td>10</td>\n",
       "      <td>RENAN CALHEIROS</td>\n",
       "      <td>Aluguel de imóveis para escritório político, c...</td>\n",
       "      <td>76.535.764/0006-58</td>\n",
       "      <td>OI S.A</td>\n",
       "      <td>NaN</td>\n",
       "      <td>2022-10-25</td>\n",
       "      <td>NaN</td>\n",
       "      <td>0.20</td>\n",
       "      <td>2189142</td>\n",
       "    </tr>\n",
       "  </tbody>\n",
       "</table>\n",
       "<p>178 rows × 11 columns</p>\n",
       "</div>"
      ],
      "text/plain": [
       "        ANO  MES            SENADOR  \\\n",
       "284    2022   10  ALESSANDRO VIEIRA   \n",
       "958    2022    1    CARLOS PORTINHO   \n",
       "959    2022    1    CARLOS PORTINHO   \n",
       "1298   2022    2       CARLOS VIANA   \n",
       "1548   2022    8       CARLOS VIANA   \n",
       "...     ...  ...                ...   \n",
       "12686  2022    9         PAULO PAIM   \n",
       "12716  2022   10         PAULO PAIM   \n",
       "12750  2022   11         PAULO PAIM   \n",
       "12787  2022   12         PAULO PAIM   \n",
       "13460  2022   10    RENAN CALHEIROS   \n",
       "\n",
       "                                            TIPO_DESPESA            CNPJ_CPF  \\\n",
       "284    Contratação de consultorias, assessorias, pesq...  25.012.398/0001-07   \n",
       "958    Passagens aéreas, aquáticas e terrestres nacio...  09.296.295/0001-60   \n",
       "959    Passagens aéreas, aquáticas e terrestres nacio...  09.296.295/0001-60   \n",
       "1298   Locomoção, hospedagem, alimentação, combustíve...  10.215.988/0001-60   \n",
       "1548   Aquisição de material de consumo para uso no e...  45.543.915/0157-07   \n",
       "...                                                  ...                 ...   \n",
       "12686  Contratação de consultorias, assessorias, pesq...  01.109.184/0004-38   \n",
       "12716  Contratação de consultorias, assessorias, pesq...  01.109.184/0004-38   \n",
       "12750  Contratação de consultorias, assessorias, pesq...  01.109.184/0004-38   \n",
       "12787  Contratação de consultorias, assessorias, pesq...  01.109.184/0004-38   \n",
       "13460  Aluguel de imóveis para escritório político, c...  76.535.764/0006-58   \n",
       "\n",
       "                                              FORNECEDOR   DOCUMENTO  \\\n",
       "284    GOOGLE CLOUD BRASIL COMPUTAÇÃO E SERVIÇOS DE D...    04429484   \n",
       "958                                                 AZUL      MGMLGZ   \n",
       "959                                                 AZUL      NN2E6U   \n",
       "1298                   COMPANHIA DE LOCACAO DAS AMERICAS  0004912053   \n",
       "1548                 CARREFOUR COMERCIO E INDUSTRIA LTDA      377936   \n",
       "...                                                  ...         ...   \n",
       "12686                                 UNIVERSO ONLINE SA   113031051   \n",
       "12716                                 UNIVERSO ONLINE SA   113640657   \n",
       "12750                                 UNIVERSO ONLINE SA   114819706   \n",
       "12787                                 UNIVERSO ONLINE SA   116099895   \n",
       "13460                                             OI S.A         NaN   \n",
       "\n",
       "            DATA                                       DETALHAMENTO  \\\n",
       "284   2022-10-02                                                NaN   \n",
       "958   2022-01-19  Companhia Aérea: AZUL, Localizador: MGMLGZ. Pa...   \n",
       "959   2022-01-19  Companhia Aérea: AZUL, Localizador: NN2E6U. Pa...   \n",
       "1298  2022-03-30                                                NaN   \n",
       "1548  2022-08-03                                                NaN   \n",
       "...          ...                                                ...   \n",
       "12686 2022-09-19                       Despesa com suporte técnico.   \n",
       "12716 2022-10-05  Despesa com serviço de suporte técnico em info...   \n",
       "12750 2022-11-04         Despesa com suporte técnico em informática   \n",
       "12787 2022-12-08            Despesa com serviço de suporte técnico.   \n",
       "13460 2022-10-25                                                NaN   \n",
       "\n",
       "       VALOR_REEMBOLSADO  COD_DOCUMENTO  \n",
       "284                 8.10        2189352  \n",
       "958                 0.01        2173057  \n",
       "959                 3.00        2173056  \n",
       "1298                7.78        2179187  \n",
       "1548                7.90        2186159  \n",
       "...                  ...            ...  \n",
       "12686               4.72        2189731  \n",
       "12716               8.84        2188954  \n",
       "12750               8.84        2189253  \n",
       "12787               8.90        2194178  \n",
       "13460               0.20        2189142  \n",
       "\n",
       "[178 rows x 11 columns]"
      ]
     },
     "execution_count": 18,
     "metadata": {},
     "output_type": "execute_result"
    }
   ],
   "source": [
    "dados_copia.query(\"VALOR_REEMBOLSADO < 10\")"
   ]
  },
  {
   "cell_type": "code",
   "execution_count": 19,
   "metadata": {},
   "outputs": [
    {
     "data": {
      "text/html": [
       "<div>\n",
       "<style scoped>\n",
       "    .dataframe tbody tr th:only-of-type {\n",
       "        vertical-align: middle;\n",
       "    }\n",
       "\n",
       "    .dataframe tbody tr th {\n",
       "        vertical-align: top;\n",
       "    }\n",
       "\n",
       "    .dataframe thead th {\n",
       "        text-align: right;\n",
       "    }\n",
       "</style>\n",
       "<table border=\"1\" class=\"dataframe\">\n",
       "  <thead>\n",
       "    <tr style=\"text-align: right;\">\n",
       "      <th></th>\n",
       "      <th>ANO</th>\n",
       "      <th>MES</th>\n",
       "      <th>SENADOR</th>\n",
       "      <th>TIPO_DESPESA</th>\n",
       "      <th>CNPJ_CPF</th>\n",
       "      <th>FORNECEDOR</th>\n",
       "      <th>DOCUMENTO</th>\n",
       "      <th>DATA</th>\n",
       "      <th>DETALHAMENTO</th>\n",
       "      <th>VALOR_REEMBOLSADO</th>\n",
       "      <th>COD_DOCUMENTO</th>\n",
       "    </tr>\n",
       "  </thead>\n",
       "  <tbody>\n",
       "    <tr>\n",
       "      <th>284</th>\n",
       "      <td>2022</td>\n",
       "      <td>10</td>\n",
       "      <td>ALESSANDRO VIEIRA</td>\n",
       "      <td>Contratação de consultorias, assessorias, pesq...</td>\n",
       "      <td>25.012.398/0001-07</td>\n",
       "      <td>GOOGLE CLOUD BRASIL COMPUTAÇÃO E SERVIÇOS DE D...</td>\n",
       "      <td>04429484</td>\n",
       "      <td>02/10/2022</td>\n",
       "      <td>NaN</td>\n",
       "      <td>8,1</td>\n",
       "      <td>2189352</td>\n",
       "    </tr>\n",
       "    <tr>\n",
       "      <th>958</th>\n",
       "      <td>2022</td>\n",
       "      <td>1</td>\n",
       "      <td>CARLOS PORTINHO</td>\n",
       "      <td>Passagens aéreas, aquáticas e terrestres nacio...</td>\n",
       "      <td>09.296.295/0001-60</td>\n",
       "      <td>AZUL</td>\n",
       "      <td>MGMLGZ</td>\n",
       "      <td>19/01/2022</td>\n",
       "      <td>Companhia Aérea: AZUL, Localizador: MGMLGZ. Pa...</td>\n",
       "      <td>,01</td>\n",
       "      <td>2173057</td>\n",
       "    </tr>\n",
       "    <tr>\n",
       "      <th>959</th>\n",
       "      <td>2022</td>\n",
       "      <td>1</td>\n",
       "      <td>CARLOS PORTINHO</td>\n",
       "      <td>Passagens aéreas, aquáticas e terrestres nacio...</td>\n",
       "      <td>09.296.295/0001-60</td>\n",
       "      <td>AZUL</td>\n",
       "      <td>NN2E6U</td>\n",
       "      <td>19/01/2022</td>\n",
       "      <td>Companhia Aérea: AZUL, Localizador: NN2E6U. Pa...</td>\n",
       "      <td>3</td>\n",
       "      <td>2173056</td>\n",
       "    </tr>\n",
       "    <tr>\n",
       "      <th>1298</th>\n",
       "      <td>2022</td>\n",
       "      <td>2</td>\n",
       "      <td>CARLOS VIANA</td>\n",
       "      <td>Locomoção, hospedagem, alimentação, combustíve...</td>\n",
       "      <td>10.215.988/0001-60</td>\n",
       "      <td>COMPANHIA DE LOCACAO DAS AMERICAS</td>\n",
       "      <td>0004912053</td>\n",
       "      <td>30/03/2022</td>\n",
       "      <td>NaN</td>\n",
       "      <td>7,78</td>\n",
       "      <td>2179187</td>\n",
       "    </tr>\n",
       "    <tr>\n",
       "      <th>1548</th>\n",
       "      <td>2022</td>\n",
       "      <td>8</td>\n",
       "      <td>CARLOS VIANA</td>\n",
       "      <td>Aquisição de material de consumo para uso no e...</td>\n",
       "      <td>45.543.915/0157-07</td>\n",
       "      <td>CARREFOUR COMERCIO E INDUSTRIA LTDA</td>\n",
       "      <td>377936</td>\n",
       "      <td>03/08/2022</td>\n",
       "      <td>NaN</td>\n",
       "      <td>7,9</td>\n",
       "      <td>2186159</td>\n",
       "    </tr>\n",
       "    <tr>\n",
       "      <th>...</th>\n",
       "      <td>...</td>\n",
       "      <td>...</td>\n",
       "      <td>...</td>\n",
       "      <td>...</td>\n",
       "      <td>...</td>\n",
       "      <td>...</td>\n",
       "      <td>...</td>\n",
       "      <td>...</td>\n",
       "      <td>...</td>\n",
       "      <td>...</td>\n",
       "      <td>...</td>\n",
       "    </tr>\n",
       "    <tr>\n",
       "      <th>12686</th>\n",
       "      <td>2022</td>\n",
       "      <td>9</td>\n",
       "      <td>PAULO PAIM</td>\n",
       "      <td>Contratação de consultorias, assessorias, pesq...</td>\n",
       "      <td>01.109.184/0004-38</td>\n",
       "      <td>UNIVERSO ONLINE SA</td>\n",
       "      <td>113031051</td>\n",
       "      <td>19/09/2022</td>\n",
       "      <td>Despesa com suporte técnico.</td>\n",
       "      <td>4,72</td>\n",
       "      <td>2189731</td>\n",
       "    </tr>\n",
       "    <tr>\n",
       "      <th>12716</th>\n",
       "      <td>2022</td>\n",
       "      <td>10</td>\n",
       "      <td>PAULO PAIM</td>\n",
       "      <td>Contratação de consultorias, assessorias, pesq...</td>\n",
       "      <td>01.109.184/0004-38</td>\n",
       "      <td>UNIVERSO ONLINE SA</td>\n",
       "      <td>113640657</td>\n",
       "      <td>05/10/2022</td>\n",
       "      <td>Despesa com serviço de suporte técnico em info...</td>\n",
       "      <td>8,84</td>\n",
       "      <td>2188954</td>\n",
       "    </tr>\n",
       "    <tr>\n",
       "      <th>12750</th>\n",
       "      <td>2022</td>\n",
       "      <td>11</td>\n",
       "      <td>PAULO PAIM</td>\n",
       "      <td>Contratação de consultorias, assessorias, pesq...</td>\n",
       "      <td>01.109.184/0004-38</td>\n",
       "      <td>UNIVERSO ONLINE SA</td>\n",
       "      <td>114819706</td>\n",
       "      <td>04/11/2022</td>\n",
       "      <td>Despesa com suporte técnico em informática</td>\n",
       "      <td>8,84</td>\n",
       "      <td>2189253</td>\n",
       "    </tr>\n",
       "    <tr>\n",
       "      <th>12787</th>\n",
       "      <td>2022</td>\n",
       "      <td>12</td>\n",
       "      <td>PAULO PAIM</td>\n",
       "      <td>Contratação de consultorias, assessorias, pesq...</td>\n",
       "      <td>01.109.184/0004-38</td>\n",
       "      <td>UNIVERSO ONLINE SA</td>\n",
       "      <td>116099895</td>\n",
       "      <td>08/12/2022</td>\n",
       "      <td>Despesa com serviço de suporte técnico.</td>\n",
       "      <td>8,9</td>\n",
       "      <td>2194178</td>\n",
       "    </tr>\n",
       "    <tr>\n",
       "      <th>13460</th>\n",
       "      <td>2022</td>\n",
       "      <td>10</td>\n",
       "      <td>RENAN CALHEIROS</td>\n",
       "      <td>Aluguel de imóveis para escritório político, c...</td>\n",
       "      <td>76.535.764/0006-58</td>\n",
       "      <td>OI S.A</td>\n",
       "      <td>NaN</td>\n",
       "      <td>25/10/2022</td>\n",
       "      <td>NaN</td>\n",
       "      <td>,2</td>\n",
       "      <td>2189142</td>\n",
       "    </tr>\n",
       "  </tbody>\n",
       "</table>\n",
       "<p>178 rows × 11 columns</p>\n",
       "</div>"
      ],
      "text/plain": [
       "        ANO  MES            SENADOR  \\\n",
       "284    2022   10  ALESSANDRO VIEIRA   \n",
       "958    2022    1    CARLOS PORTINHO   \n",
       "959    2022    1    CARLOS PORTINHO   \n",
       "1298   2022    2       CARLOS VIANA   \n",
       "1548   2022    8       CARLOS VIANA   \n",
       "...     ...  ...                ...   \n",
       "12686  2022    9         PAULO PAIM   \n",
       "12716  2022   10         PAULO PAIM   \n",
       "12750  2022   11         PAULO PAIM   \n",
       "12787  2022   12         PAULO PAIM   \n",
       "13460  2022   10    RENAN CALHEIROS   \n",
       "\n",
       "                                            TIPO_DESPESA            CNPJ_CPF  \\\n",
       "284    Contratação de consultorias, assessorias, pesq...  25.012.398/0001-07   \n",
       "958    Passagens aéreas, aquáticas e terrestres nacio...  09.296.295/0001-60   \n",
       "959    Passagens aéreas, aquáticas e terrestres nacio...  09.296.295/0001-60   \n",
       "1298   Locomoção, hospedagem, alimentação, combustíve...  10.215.988/0001-60   \n",
       "1548   Aquisição de material de consumo para uso no e...  45.543.915/0157-07   \n",
       "...                                                  ...                 ...   \n",
       "12686  Contratação de consultorias, assessorias, pesq...  01.109.184/0004-38   \n",
       "12716  Contratação de consultorias, assessorias, pesq...  01.109.184/0004-38   \n",
       "12750  Contratação de consultorias, assessorias, pesq...  01.109.184/0004-38   \n",
       "12787  Contratação de consultorias, assessorias, pesq...  01.109.184/0004-38   \n",
       "13460  Aluguel de imóveis para escritório político, c...  76.535.764/0006-58   \n",
       "\n",
       "                                              FORNECEDOR   DOCUMENTO  \\\n",
       "284    GOOGLE CLOUD BRASIL COMPUTAÇÃO E SERVIÇOS DE D...    04429484   \n",
       "958                                                 AZUL      MGMLGZ   \n",
       "959                                                 AZUL      NN2E6U   \n",
       "1298                   COMPANHIA DE LOCACAO DAS AMERICAS  0004912053   \n",
       "1548                 CARREFOUR COMERCIO E INDUSTRIA LTDA      377936   \n",
       "...                                                  ...         ...   \n",
       "12686                                 UNIVERSO ONLINE SA   113031051   \n",
       "12716                                 UNIVERSO ONLINE SA   113640657   \n",
       "12750                                 UNIVERSO ONLINE SA   114819706   \n",
       "12787                                 UNIVERSO ONLINE SA   116099895   \n",
       "13460                                             OI S.A         NaN   \n",
       "\n",
       "             DATA                                       DETALHAMENTO  \\\n",
       "284    02/10/2022                                                NaN   \n",
       "958    19/01/2022  Companhia Aérea: AZUL, Localizador: MGMLGZ. Pa...   \n",
       "959    19/01/2022  Companhia Aérea: AZUL, Localizador: NN2E6U. Pa...   \n",
       "1298   30/03/2022                                                NaN   \n",
       "1548   03/08/2022                                                NaN   \n",
       "...           ...                                                ...   \n",
       "12686  19/09/2022                       Despesa com suporte técnico.   \n",
       "12716  05/10/2022  Despesa com serviço de suporte técnico em info...   \n",
       "12750  04/11/2022         Despesa com suporte técnico em informática   \n",
       "12787  08/12/2022            Despesa com serviço de suporte técnico.   \n",
       "13460  25/10/2022                                                NaN   \n",
       "\n",
       "      VALOR_REEMBOLSADO  COD_DOCUMENTO  \n",
       "284                 8,1        2189352  \n",
       "958                 ,01        2173057  \n",
       "959                   3        2173056  \n",
       "1298               7,78        2179187  \n",
       "1548                7,9        2186159  \n",
       "...                 ...            ...  \n",
       "12686              4,72        2189731  \n",
       "12716              8,84        2188954  \n",
       "12750              8,84        2189253  \n",
       "12787               8,9        2194178  \n",
       "13460                ,2        2189142  \n",
       "\n",
       "[178 rows x 11 columns]"
      ]
     },
     "execution_count": 19,
     "metadata": {},
     "output_type": "execute_result"
    }
   ],
   "source": [
    "index = dados_copia.query(\"VALOR_REEMBOLSADO < 10\").index\n",
    "dados.iloc[index]"
   ]
  },
  {
   "cell_type": "markdown",
   "metadata": {},
   "source": [
    "## Gráficos"
   ]
  },
  {
   "cell_type": "code",
   "execution_count": 20,
   "metadata": {},
   "outputs": [
    {
     "name": "stderr",
     "output_type": "stream",
     "text": [
      "c:\\Users\\Gabriel\\Documents\\faculdade\\Ciência de Dados\\.venv\\lib\\site-packages\\seaborn\\_oldcore.py:1498: FutureWarning: is_categorical_dtype is deprecated and will be removed in a future version. Use isinstance(dtype, CategoricalDtype) instead\n",
      "  if pd.api.types.is_categorical_dtype(vector):\n",
      "c:\\Users\\Gabriel\\Documents\\faculdade\\Ciência de Dados\\.venv\\lib\\site-packages\\seaborn\\_oldcore.py:1498: FutureWarning: is_categorical_dtype is deprecated and will be removed in a future version. Use isinstance(dtype, CategoricalDtype) instead\n",
      "  if pd.api.types.is_categorical_dtype(vector):\n",
      "c:\\Users\\Gabriel\\Documents\\faculdade\\Ciência de Dados\\.venv\\lib\\site-packages\\seaborn\\_oldcore.py:1498: FutureWarning: is_categorical_dtype is deprecated and will be removed in a future version. Use isinstance(dtype, CategoricalDtype) instead\n",
      "  if pd.api.types.is_categorical_dtype(vector):\n"
     ]
    },
    {
     "data": {
      "text/plain": [
       "<Axes: xlabel='MES'>"
      ]
     },
     "execution_count": 20,
     "metadata": {},
     "output_type": "execute_result"
    },
    {
     "data": {
      "image/png": "[encoded data removed]",
      "text/plain": [
       "<Figure size 640x480 with 1 Axes>"
      ]
     },
     "metadata": {},
     "output_type": "display_data"
    }
   ],
   "source": [
    "mes = dados_copia.groupby('MES')[\"VALOR_REEMBOLSADO\"].mean().index\n",
    "valores = dados_copia.groupby('MES')[\"VALOR_REEMBOLSADO\"].mean().values\n",
    "sns.barplot(x=mes,y=valores)\n",
    "sns.regplot(x=mes, y=valores,scatter=False, truncate=False, order=2, color=\".2\")"
   ]
  },
  {
   "cell_type": "code",
   "execution_count": 21,
   "metadata": {},
   "outputs": [
    {
     "data": {
      "text/plain": [
       "<Axes: xlabel='Mês', ylabel='Valor Reembolsado'>"
      ]
     },
     "execution_count": 21,
     "metadata": {},
     "output_type": "execute_result"
    },
    {
     "data": {
      "image/png": "[encoded data removed]",
      "text/plain": [
       "<Figure size 640x480 with 1 Axes>"
      ]
     },
     "metadata": {},
     "output_type": "display_data"
    }
   ],
   "source": [
    "dados_copia.groupby('MES')[\"VALOR_REEMBOLSADO\"].max().plot(kind='bar',ylabel=\"Valor Reembolsado\",xlabel=\"Mês\")"
   ]
  },
  {
   "cell_type": "code",
   "execution_count": 22,
   "metadata": {},
   "outputs": [
    {
     "data": {
      "text/plain": [
       "<Axes: xlabel='Mês', ylabel='Valor Reembolsado'>"
      ]
     },
     "execution_count": 22,
     "metadata": {},
     "output_type": "execute_result"
    },
    {
     "data": {
      "image/png": "[encoded data removed]",
      "text/plain": [
       "<Figure size 640x480 with 1 Axes>"
      ]
     },
     "metadata": {},
     "output_type": "display_data"
    }
   ],
   "source": [
    "dados_copia.groupby('MES')[\"VALOR_REEMBOLSADO\"].min().plot(kind='bar',ylabel=\"Valor Reembolsado\",xlabel=\"Mês\")"
   ]
  },
  {
   "cell_type": "code",
   "execution_count": 56,
   "metadata": {},
   "outputs": [
    {
     "data": {
      "text/plain": [
       "Index(['ANO', 'MES', 'SENADOR', 'TIPO_DESPESA', 'CNPJ_CPF', 'FORNECEDOR',\n",
       "       'DOCUMENTO', 'DATA', 'DETALHAMENTO', 'VALOR_REEMBOLSADO',\n",
       "       'COD_DOCUMENTO'],\n",
       "      dtype='object')"
      ]
     },
     "execution_count": 56,
     "metadata": {},
     "output_type": "execute_result"
    }
   ],
   "source": [
    "dados_copia.columns"
   ]
  },
  {
   "cell_type": "code",
   "execution_count": 70,
   "metadata": {},
   "outputs": [
    {
     "data": {
      "text/plain": [
       "[[Text(0, 0, 'Aluguel de Imóveis'),\n",
       "  Text(1, 0, 'Aquisição de Materiais'),\n",
       "  Text(2, 0, 'Contratação de Consultoria'),\n",
       "  Text(3, 0, 'Divulgação Atividade Parlamentar'),\n",
       "  Text(4, 0, 'Locação, Hospedagem, alimentação'),\n",
       "  Text(5, 0, 'Passagens'),\n",
       "  Text(6, 0, 'Segurança Privada')]]"
      ]
     },
     "execution_count": 70,
     "metadata": {},
     "output_type": "execute_result"
    },
    {
     "data": {
      "image/png": "[encoded data removed]",
      "text/plain": [
       "<Figure size 640x480 with 1 Axes>"
      ]
     },
     "metadata": {},
     "output_type": "display_data"
    }
   ],
   "source": [
    "ax = dados_copia.groupby(\"TIPO_DESPESA\")[\"VALOR_REEMBOLSADO\"].sum().plot(kind=\"bar\")\n",
    "ax.set(xticklabels=[\"Aluguel de Imóveis\", \"Aquisição de Materiais\",\"Contratação de Consultoria\",\"Divulgação Atividade Parlamentar\", \"Locação, Hospedagem, alimentação\",\"Passagens\",\"Segurança Privada\"])"
   ]
  },
  {
   "cell_type": "code",
   "execution_count": 126,
   "metadata": {},
   "outputs": [],
   "source": [
    "dados_filtrado = dados_copia[dados_copia.TIPO_DESPESA == \"Contratação de consultorias, assessorias, pesquisas, trabalhos técnicos e outros serviços de apoio ao exercício do mandato parlamentar\"]\n",
    "consultores = dados_filtrado.groupby(\"CNPJ_CPF\").size().sort_values(ascending=False).head(10).index"
   ]
  },
  {
   "cell_type": "code",
   "execution_count": 127,
   "metadata": {},
   "outputs": [
    {
     "data": {
      "text/plain": [
       "CNPJ_CPF\n",
       "01.109.184/0004-38    35\n",
       "05.305.671/0001-84    24\n",
       "02.351.877/0001-52    20\n",
       "23.425.589/0001-75    20\n",
       "25.012.398/0001-07    19\n",
       "30.727.829/0001-51    13\n",
       "23.412.247/0001-10    12\n",
       "15.183.160/0001-90    12\n",
       "16.924.825/0001-32    12\n",
       "37.921.617/0001-50    12\n",
       "dtype: int64"
      ]
     },
     "execution_count": 127,
     "metadata": {},
     "output_type": "execute_result"
    }
   ],
   "source": [
    "dados_filtrado.groupby(\"CNPJ_CPF\").size().sort_values(ascending=False).head(10)"
   ]
  },
  {
   "cell_type": "code",
   "execution_count": 133,
   "metadata": {},
   "outputs": [
    {
     "data": {
      "text/plain": [
       "FORNECEDOR\n",
       "AMAZON AWS SERVICOS BRASIL LTDA                              1158.19\n",
       "Alisson da Silva Barbosa/NORDHIC DIGITAL                    41954.00\n",
       "BUNKER BRAIN AUDIOVISUAL EIRELI                            134799.09\n",
       "CYBERWEB NETWORKS LTDA                                       4316.49\n",
       "Conlegis                                                    80000.00\n",
       "GOOGLE CLOUD BRASIL COMPUTAÇÃO E SERVIÇOS DE DADOS LTDA      1613.80\n",
       "Google Cloud Brasil Computação e Serviços de Dados LTDA      1620.00\n",
       "LOCAWEB SERVICOS DE INTERNET S                               2599.10\n",
       "LOCAWEB SERVICOS DE INTERNET S.A.                             532.20\n",
       "LOCAWEB SERVIÇOS DE INTERNET SA                              1336.06\n",
       "Locaweb Serviços de Internet S/A                              947.12\n",
       "PARLABRASIL EIRELI                                          30681.00\n",
       "UNIVERSO ONLINE SA                                           2041.78\n",
       "UPLINK Assessoria e Consultoria Empresarial Eireli -ME     360000.00\n",
       "Name: VALOR_REEMBOLSADO, dtype: float64"
      ]
     },
     "execution_count": 133,
     "metadata": {},
     "output_type": "execute_result"
    }
   ],
   "source": [
    "dados_copia[dados_copia[\"CNPJ_CPF\"].isin(consultores)].groupby(\"FORNECEDOR\")[\"VALOR_REEMBOLSADO\"].sum()"
   ]
  },
  {
   "cell_type": "code",
   "execution_count": 134,
   "metadata": {},
   "outputs": [
    {
     "data": {
      "text/plain": [
       "array(['Aluguel de imóveis para escritório político, compreendendo despesas concernentes a eles.',\n",
       "       'Divulgação da atividade parlamentar',\n",
       "       'Passagens aéreas, aquáticas e terrestres nacionais',\n",
       "       'Contratação de consultorias, assessorias, pesquisas, trabalhos técnicos e outros serviços de apoio ao exercício do mandato parlamentar',\n",
       "       'Locomoção, hospedagem, alimentação, combustíveis e lubrificantes',\n",
       "       'Aquisição de material de consumo para uso no escritório político, inclusive aquisição ou locação de software, despesas postais, aquisição de publicações, locação de móveis e de equipamentos. ',\n",
       "       'Serviços de Segurança Privada'], dtype=object)"
      ]
     },
     "execution_count": 134,
     "metadata": {},
     "output_type": "execute_result"
    }
   ],
   "source": [
    "dados_copia.TIPO_DESPESA.unique()"
   ]
  },
  {
   "cell_type": "code",
   "execution_count": null,
   "metadata": {},
   "outputs": [],
   "source": []
  }
 ],
 "metadata": {
  "kernelspec": {
   "display_name": "DataScience",
   "language": "python",
   "name": "python3"
  },
  "language_info": {
   "codemirror_mode": {
    "name": "ipython",
    "version": 3
   },
   "file_extension": ".py",
   "mimetype": "text/x-python",
   "name": "python",
   "nbconvert_exporter": "python",
   "pygments_lexer": "ipython3",
   "version": "3.9.13"
  },
  "orig_nbformat": 4
 },
 "nbformat": 4,
 "nbformat_minor": 2
}
